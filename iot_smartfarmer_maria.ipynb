{
  "nbformat": 4,
  "nbformat_minor": 0,
  "metadata": {
    "colab": {
      "provenance": []
    },
    "kernelspec": {
      "name": "python3",
      "display_name": "Python 3"
    },
    "language_info": {
      "name": "python"
    }
  },
  "cells": [
    {
      "cell_type": "code",
      "execution_count": null,
      "metadata": {
        "id": "Swy145bkGWAa"
      },
      "outputs": [],
      "source": [
        "import  wiotp.sdk.device\n",
        "import  time\n",
        "import  os\n",
        "import  datetime\n",
        "import  random"
      ]
    },
    {
      "cell_type": "code",
      "source": [
        "!pip install wiotp-sdk"
      ],
      "metadata": {
        "colab": {
          "base_uri": "https://localhost:8080/"
        },
        "id": "jv11HID2asas",
        "outputId": "bf71773c-7191-4330-affb-0bddd774e86b"
      },
      "execution_count": null,
      "outputs": [
        {
          "output_type": "stream",
          "name": "stdout",
          "text": [
            "Looking in indexes: https://pypi.org/simple, https://us-python.pkg.dev/colab-wheels/public/simple/\n",
            "Collecting wiotp-sdk\n",
            "  Downloading wiotp-sdk-0.11.0.tar.gz (96 kB)\n",
            "\u001b[K     |████████████████████████████████| 96 kB 3.2 MB/s \n",
            "\u001b[?25hCollecting iso8601>=0.1.12\n",
            "  Downloading iso8601-1.1.0-py3-none-any.whl (9.9 kB)\n",
            "Requirement already satisfied: pytz>=2018.9 in /usr/local/lib/python3.7/dist-packages (from wiotp-sdk) (2022.6)\n",
            "Requirement already satisfied: pyyaml>=3.13 in /usr/local/lib/python3.7/dist-packages (from wiotp-sdk) (6.0)\n",
            "Collecting paho-mqtt>=1.5.0\n",
            "  Downloading paho-mqtt-1.6.1.tar.gz (99 kB)\n",
            "\u001b[K     |████████████████████████████████| 99 kB 6.7 MB/s \n",
            "\u001b[?25hRequirement already satisfied: requests>=2.21.0 in /usr/local/lib/python3.7/dist-packages (from wiotp-sdk) (2.23.0)\n",
            "Collecting requests_toolbelt>=0.8.0\n",
            "  Downloading requests_toolbelt-0.10.1-py2.py3-none-any.whl (54 kB)\n",
            "\u001b[K     |████████████████████████████████| 54 kB 2.3 MB/s \n",
            "\u001b[?25hRequirement already satisfied: urllib3!=1.25.0,!=1.25.1,<1.26,>=1.21.1 in /usr/local/lib/python3.7/dist-packages (from requests>=2.21.0->wiotp-sdk) (1.24.3)\n",
            "Requirement already satisfied: idna<3,>=2.5 in /usr/local/lib/python3.7/dist-packages (from requests>=2.21.0->wiotp-sdk) (2.10)\n",
            "Requirement already satisfied: chardet<4,>=3.0.2 in /usr/local/lib/python3.7/dist-packages (from requests>=2.21.0->wiotp-sdk) (3.0.4)\n",
            "Requirement already satisfied: certifi>=2017.4.17 in /usr/local/lib/python3.7/dist-packages (from requests>=2.21.0->wiotp-sdk) (2022.9.24)\n",
            "Building wheels for collected packages: wiotp-sdk, paho-mqtt\n",
            "  Building wheel for wiotp-sdk (setup.py) ... \u001b[?25l\u001b[?25hdone\n",
            "  Created wheel for wiotp-sdk: filename=wiotp_sdk-0.11.0-py3-none-any.whl size=97238 sha256=5d5f3c18a82471434cb042bac6abe352f3fbcad75b6b227b0f1e235d2722c861\n",
            "  Stored in directory: /root/.cache/pip/wheels/56/f1/4b/2d7bc55ae8f9ef6e175c2c8be828fcd108b8c4b8c5ff613136\n",
            "  Building wheel for paho-mqtt (setup.py) ... \u001b[?25l\u001b[?25hdone\n",
            "  Created wheel for paho-mqtt: filename=paho_mqtt-1.6.1-py3-none-any.whl size=62132 sha256=b6bbefd14949e60f127ba799d4c14565420432bbe0a906a70147777d0c55d116\n",
            "  Stored in directory: /root/.cache/pip/wheels/d0/bf/ac/2b3f43f8c6fcd0f4ba5395397458c521eb0b52d33b574a5a40\n",
            "Successfully built wiotp-sdk paho-mqtt\n",
            "Installing collected packages: requests-toolbelt, paho-mqtt, iso8601, wiotp-sdk\n",
            "Successfully installed iso8601-1.1.0 paho-mqtt-1.6.1 requests-toolbelt-0.10.1 wiotp-sdk-0.11.0\n"
          ]
        }
      ]
    },
    {
      "cell_type": "code",
      "source": [
        "myconfig = {\n",
        "                \"identity\":\n",
        "                          {\n",
        "                               \"orgId\": \"2pgtcy\",\n",
        "                              \"typeId\": \"node2-mcu\",\n",
        "                              \"deviceId\": \"60034009\"\n",
        "                          },\n",
        "               \"auth\" :{\n",
        "                   \"token\": \"bOK-_zPjpShDHMx*kc\"\n",
        "               }            \n",
        "                  \n",
        "               }"
      ],
      "metadata": {
        "id": "x_U7TYwvGllM"
      },
      "execution_count": 15,
      "outputs": []
    },
    {
      "cell_type": "code",
      "source": [
        "#client = wiotp.sdk.device.DeviceClient(config==myConfig, loghandlers=None)\n",
        "#client.connect()\n",
        "#client = wiotp.sdk.device.DeviceClient(config=myConfig)"
      ],
      "metadata": {
        "id": "g0CpV1TkUAu5"
      },
      "execution_count": 19,
      "outputs": []
    },
    {
      "cell_type": "code",
      "source": [
        "def myCommandCallback(cmd):\n",
        "  print(\"Message received from IBM IoT Platform:%s\" % cmd.data['command'])\n",
        "  m=cmd.data['command']\n",
        "  if(m ==\"motoron\"):\n",
        "    print(\"Motor is switched on\")\n",
        "  elif(m==\"motoroff\"):\n",
        "    print(\"Motor is switched OFF\")\n",
        "    print(\" \")"
      ],
      "metadata": {
        "id": "mTSEGxsiUM1y"
      },
      "execution_count": null,
      "outputs": []
    },
    {
      "cell_type": "code",
      "source": [
        "  while True:\n",
        "      soil=random.randint(0,100)\n",
        "      temp=random.randint(-20,125)\n",
        "      hum=random.randint(0,100)\n",
        "      myData={'soil_moisture':soil, 'temperature':temp, 'humidity':hum}\n",
        "      client.publishEvent(eventId=\"status\",msgFormat=\"json\", data=myData, qos=0, onPublish=None)\n",
        "      print(\"Published data Successfully: %s\", myData)\n",
        "      time.sleep(2)\n",
        "      client.commandCallback = myCommandCallback\n",
        "      client.disconnect()"
      ],
      "metadata": {
        "id": "7wOHvCNRV4JN"
      },
      "execution_count": null,
      "outputs": []
    },
    {
      "cell_type": "code",
      "source": [],
      "metadata": {
        "id": "MBYvUdfQeZi3"
      },
      "execution_count": null,
      "outputs": []
    }
  ]
}