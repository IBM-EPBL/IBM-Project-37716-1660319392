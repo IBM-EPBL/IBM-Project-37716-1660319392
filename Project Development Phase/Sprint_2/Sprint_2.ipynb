{
  "nbformat": 4,
  "nbformat_minor": 0,
  "metadata": {
    "colab": {
      "provenance": []
    },
    "kernelspec": {
      "name": "python3",
      "display_name": "Python 3"
    },
    "language_info": {
      "name": "python"
    }
  },
  "cells": [
    {
      "cell_type": "code",
      "execution_count": null,
      "metadata": {
        "id": "dxI2fHDymylK"
      },
      "outputs": [],
      "source": [
        "myconfig = {\n",
        "                \"identity\":\n",
        "                          {\n",
        "                               \"orgId\": \"2pgtcy\",\n",
        "                              \"typeId\": \"node2-mcu\",\n",
        "                              \"deviceId\": \"60034009\"\n",
        "                          },\n",
        "               \"auth\" :{\n",
        "                   \"token\": \"bOK-_zPjpShDHMx*kc\"\n",
        "               }            \n",
        "                  \n",
        "               }"
      ]
    }
  ]
}