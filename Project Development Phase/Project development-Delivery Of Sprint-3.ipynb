{
  "nbformat": 4,
  "nbformat_minor": 0,
  "metadata": {
    "colab": {
      "provenance": []
    },
    "kernelspec": {
      "name": "python3",
      "display_name": "Python 3"
    },
    "language_info": {
      "name": "python"
    }
  },
  "cells": [
    {
      "cell_type": "code",
      "execution_count": null,
      "metadata": {
        "id": "ru4f-xV2nrii"
      },
      "outputs": [],
      "source": [
        "#client = wiotp.sdk.device.DeviceClient(config==myConfig, loghandlers=None)\n",
        "#client.connect()\n",
        "#client = wiotp.sdk.device.DeviceClient(config=myConfig)\n",
        "\n",
        "\n",
        "\n",
        "def myCommandCallback(cmd):\n",
        "  print(\"Message received from IBM IoT Platform:%s\" % cmd.data['command'])\n",
        "  m=cmd.data['command']\n",
        "  if(m ==\"motoron\"):\n",
        "    print(\"Motor is switched on\")\n",
        "  elif(m==\"motoroff\"):\n",
        "    print(\"Motor is switched OFF\")\n",
        "    print(\" \")"
      ]
    }
  ]
}