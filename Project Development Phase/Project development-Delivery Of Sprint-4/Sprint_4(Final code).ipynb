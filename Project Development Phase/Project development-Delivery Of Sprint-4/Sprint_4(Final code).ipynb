{
  "nbformat": 4,
  "nbformat_minor": 0,
  "metadata": {
    "colab": {
      "provenance": []
    },
    "kernelspec": {
      "name": "python3",
      "display_name": "Python 3"
    },
    "language_info": {
      "name": "python"
    }
  },
  "cells": [
    {
      "cell_type": "code",
      "execution_count": null,
      "metadata": {
        "id": "ru4f-xV2nrii"
      },
      "outputs": [],
      "source": [
        "import  wiotp.sdk.device\n",
        "import  time\n",
        "import  os\n",
        "import  datetime\n",
        "import  random\n",
        "\n",
        "myconfig = {\n",
        "                \"identity\":\n",
        "                          {\n",
        "                               \"orgId\": \"2pgtcy\",\n",
        "                              \"typeId\": \"node2-mcu\",\n",
        "                              \"deviceId\": \"60034009\"\n",
        "                          },\n",
        "               \"auth\" :{\n",
        "                   \"token\": \"bOK-_zPjpShDHMx*kc\"\n",
        "               }            \n",
        "                  \n",
        "               }\n",
        "\n",
        "\n",
        "#client = wiotp.sdk.device.DeviceClient(config==myConfig, loghandlers=None)  \n",
        "#client.connect()\n",
        "#client = wiotp.sdk.device.DeviceClient(config=myConfig)\n",
        "\n",
        " def myCommandCallback(cmd):\n",
        "  print(\"Message received from IBM IoT Platform:%s\" % cmd.data['command'])\n",
        "  m=cmd.data['command']\n",
        "  if(m ==\"motoron\"):\n",
        "    print(\"Motor is switched on\")\n",
        "  elif(m==\"motoroff\"):\n",
        "    print(\"Motor is switched OFF\")\n",
        "    print(\" \")\n",
        "\n",
        "      while True:\n",
        "      soil=random.randint(0,100)\n",
        "      temp=random.randint(-20,125)\n",
        "      hum=random.randint(0,100)\n",
        "      myData={'soil_moisture':soil, 'temperature':temp, 'humidity':hum}\n",
        "      client.publishEvent(eventId=\"status\",msgFormat=\"json\", data=myData, qos=0, onPublish=None)\n",
        "      print(\"Published data Successfully: %s\", myData)\n",
        "      time.sleep(2)\n",
        "      client.commandCallback = myCommandCallback\n",
        "      client.disconnect()"
      ]
    }
  ]
}