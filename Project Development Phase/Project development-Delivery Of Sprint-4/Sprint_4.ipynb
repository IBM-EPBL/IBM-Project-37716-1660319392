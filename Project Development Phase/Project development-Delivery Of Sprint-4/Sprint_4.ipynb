{
  "nbformat": 4,
  "nbformat_minor": 0,
  "metadata": {
    "colab": {
      "provenance": []
    },
    "kernelspec": {
      "name": "python3",
      "display_name": "Python 3"
    },
    "language_info": {
      "name": "python"
    }
  },
  "cells": [
    {
      "cell_type": "code",
      "execution_count": null,
      "metadata": {
        "id": "ru4f-xV2nrii"
      },
      "outputs": [],
      "source": [
        "  while True:\n",
        "      soil=random.randint(0,100)\n",
        "      temp=random.randint(-20,125)\n",
        "      hum=random.randint(0,100)\n",
        "      myData={'soil_moisture':soil, 'temperature':temp, 'humidity':hum}\n",
        "      client.publishEvent(eventId=\"status\",msgFormat=\"json\", data=myData, qos=0, onPublish=None)\n",
        "      print(\"Published data Successfully: %s\", myData)\n",
        "      time.sleep(2)\n",
        "      client.commandCallback = myCommandCallback\n",
        "      client.disconnect()"
      ]
    }
  ]
}